{
 "cells": [
  {
   "cell_type": "code",
   "execution_count": 1,
   "metadata": {},
   "outputs": [
    {
     "name": "stdout",
     "output_type": "stream",
     "text": [
      "Coroutine started\n",
      "Received value: 10\n",
      "Received value: 20\n"
     ]
    }
   ],
   "source": [
    "def coroutine_example():\n",
    "    print(\"Coroutine started\")\n",
    "    while True:\n",
    "        value = yield\n",
    "        print(f\"Received value: {value}\")\n",
    "\n",
    "\n",
    "coro = coroutine_example()\n",
    "\n",
    "next(coro)\n",
    "\n",
    "coro.send(10)\n",
    "coro.send(20)\n",
    "\n",
    "coro.close()"
   ]
  },
  {
   "cell_type": "code",
   "execution_count": 2,
   "metadata": {},
   "outputs": [
    {
     "name": "stdout",
     "output_type": "stream",
     "text": [
      "Coroutine coro1 started\n",
      "Coroutine coro2 started\n",
      "Coroutine coro1 received value: 10\n",
      "Coroutine coro2 received value: 20\n"
     ]
    }
   ],
   "source": [
    "def coroutine_example(name):\n",
    "    print(f\"Coroutine {name} started\")\n",
    "    while True:\n",
    "        value = yield\n",
    "        print(f\"Coroutine {name} received value: {value}\")\n",
    "\n",
    "\n",
    "coro1 = coroutine_example(\"coro1\")\n",
    "coro2 = coroutine_example(\"coro2\")\n",
    "\n",
    "\n",
    "next(coro1)\n",
    "next(coro2)\n",
    "\n",
    "\n",
    "coro1.send(10)\n",
    "coro2.send(20)\n",
    "\n",
    "coro1.close()\n",
    "coro2.close()"
   ]
  },
  {
   "cell_type": "code",
   "execution_count": 3,
   "metadata": {},
   "outputs": [
    {
     "name": "stdout",
     "output_type": "stream",
     "text": [
      "Coroutine coro1 received value: 1, count: 1\n",
      "Coroutine coro2 received value: 10, count: 10\n",
      "Coroutine coro1 received value: 2, count: 3\n",
      "Coroutine coro2 received value: 20, count: 30\n",
      "Coroutine coro1 received value: 3, count: 6\n",
      "Coroutine coro2 received value: 30, count: 60\n",
      "Coroutine coro1 received value: 4, count: 10\n",
      "Coroutine coro2 received value: 40, count: 100\n",
      "Coroutine coro1 received value: 5, count: 15\n",
      "Coroutine coro2 received value: 50, count: 150\n"
     ]
    }
   ],
   "source": [
    "def coroutine_example(name):\n",
    "    count = 0\n",
    "    while True:\n",
    "        value = yield\n",
    "        count += value\n",
    "        print(f\"Coroutine {name} received value: {value}, count: {count}\")\n",
    "\n",
    "\n",
    "values1 = [1, 2, 3, 4, 5]\n",
    "values2 = [10, 20, 30, 40, 50]\n",
    "\n",
    "coro1 = coroutine_example(\"coro1\")\n",
    "coro2 = coroutine_example(\"coro2\")\n",
    "next(coro1)\n",
    "next(coro2)\n",
    "\n",
    "for v1, v2 in zip(values1, values2):\n",
    "    coro1.send(v1)\n",
    "    coro2.send(v2)\n",
    "\n",
    "coro1.close()\n",
    "coro2.close()"
   ]
  },
  {
   "cell_type": "code",
   "execution_count": 12,
   "metadata": {},
   "outputs": [
    {
     "name": "stdout",
     "output_type": "stream",
     "text": [
      "Coroutine coro1 count: 0\n",
      "Coroutine coro2 count: 0\n",
      "Coroutine coro1 received value: 1\n",
      "Coroutine coro1 count: 1\n",
      "Coroutine coro2 received value: 10\n",
      "Coroutine coro2 count: 10\n",
      "Coroutine coro1 received value: 2\n",
      "Coroutine coro1 count: 3\n",
      "Coroutine coro2 received value: 20\n",
      "Coroutine coro2 count: 30\n",
      "Coroutine coro1 received value: 3\n",
      "Coroutine coro1 count: 6\n",
      "Coroutine coro2 received value: 30\n",
      "Coroutine coro2 count: 60\n",
      "Coroutine coro1 received value: 4\n",
      "Coroutine coro1 count: 10\n",
      "Coroutine coro2 received value: 40\n",
      "Coroutine coro2 count: 100\n",
      "Coroutine coro1 received value: 5\n",
      "Coroutine coro1 count: 15\n",
      "Coroutine coro2 received value: 50\n",
      "Coroutine coro2 count: 150\n"
     ]
    }
   ],
   "source": [
    "def coroutine_example(name):\n",
    "    count = 0\n",
    "    while True:\n",
    "        value = yield count\n",
    "        count += value\n",
    "        print(f\"Coroutine {name} received value: {value}\")\n",
    "\n",
    "\n",
    "values1 = [1, 2, 3, 4, 5]\n",
    "values2 = [10, 20, 30, 40, 50]\n",
    "\n",
    "coro1 = coroutine_example(\"coro1\")\n",
    "coro2 = coroutine_example(\"coro2\")\n",
    "\n",
    "print(\"Coroutine coro1 count:\", next(coro1))\n",
    "print(\"Coroutine coro2 count:\", next(coro2))\n",
    "\n",
    "\n",
    "for v1, v2 in zip(values1, values2):\n",
    "    print(\"Coroutine coro1 count:\", coro1.send(v1))\n",
    "    print(\"Coroutine coro2 count:\", coro2.send(v2))\n",
    "\n",
    "\n",
    "coro1.close()\n",
    "coro2.close()"
   ]
  },
  {
   "cell_type": "code",
   "execution_count": 13,
   "metadata": {},
   "outputs": [
    {
     "name": "stdout",
     "output_type": "stream",
     "text": [
      "Coroutine started\n",
      "Waiting for result\n",
      "Received result: None\n",
      "Coroutine finished\n"
     ]
    }
   ],
   "source": [
    "import types\n",
    "\n",
    "\n",
    "def async_function(func):\n",
    "    def wrapper(*args, **kwargs):\n",
    "        gen = func(*args, **kwargs)\n",
    "        if not isinstance(gen, types.GeneratorType):\n",
    "            raise TypeError(\"Function must be a generator\")\n",
    "        return gen\n",
    "    return wrapper\n",
    "\n",
    "\n",
    "def await_function(gen):\n",
    "    try:\n",
    "        return next(gen)\n",
    "    except StopIteration as e:\n",
    "        return e.value\n",
    "\n",
    "\n",
    "@async_function\n",
    "def example_coroutine():\n",
    "    print(\"Coroutine started\")\n",
    "    result = yield \"Waiting for result\"\n",
    "    print(f\"Received result: {result}\")\n",
    "    return \"Coroutine finished\"\n",
    "\n",
    "\n",
    "coro = example_coroutine()\n",
    "print(await_function(coro))\n",
    "print(await_function(coro))"
   ]
  },
  {
   "cell_type": "code",
   "execution_count": null,
   "metadata": {},
   "outputs": [],
   "source": []
  }
 ],
 "metadata": {
  "kernelspec": {
   "display_name": "Python 3",
   "language": "python",
   "name": "python3"
  },
  "language_info": {
   "codemirror_mode": {
    "name": "ipython",
    "version": 3
   },
   "file_extension": ".py",
   "mimetype": "text/x-python",
   "name": "python",
   "nbconvert_exporter": "python",
   "pygments_lexer": "ipython3",
   "version": "3.12.1"
  }
 },
 "nbformat": 4,
 "nbformat_minor": 2
}
