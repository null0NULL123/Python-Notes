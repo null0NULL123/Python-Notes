{
 "cells": [
  {
   "cell_type": "markdown",
   "metadata": {},
   "source": [
    "# 并发运行多个异步任务"
   ]
  },
  {
   "cell_type": "code",
   "execution_count": null,
   "metadata": {},
   "outputs": [],
   "source": [
    "import asyncio\n",
    "\n",
    "\n",
    "async def example_coroutine(name):\n",
    "    for i in range(3):\n",
    "        print(f\"Coroutine {name} iteration {i}\")\n",
    "        await asyncio.sleep(1)\n",
    "    return f\"Coroutine {name} finished\"\n",
    "\n",
    "\n",
    "async def main():\n",
    "    coro1 = example_coroutine(\"coro1\")\n",
    "    coro2 = example_coroutine(\"coro2\")\n",
    "    results = await asyncio.gather(coro1, coro2)\n",
    "    for result in results:\n",
    "        print(result)\n",
    "\n",
    "await main()"
   ]
  },
  {
   "cell_type": "markdown",
   "metadata": {},
   "source": [
    "# 模拟异步操作"
   ]
  },
  {
   "cell_type": "code",
   "execution_count": null,
   "metadata": {},
   "outputs": [],
   "source": [
    "async def async_function(name, delay):\n",
    "    print(f\"Start {name}\")\n",
    "    await asyncio.sleep(delay)\n",
    "    print(f\"End {name}\")\n",
    "    return f\"{name} result\"\n",
    "\n",
    "\n",
    "async def main():\n",
    "    tasks = [\n",
    "        async_function(\"Task1\", 1),\n",
    "        async_function(\"Task2\", 2),\n",
    "        async_function(\"Task3\", 3)\n",
    "    ]\n",
    "    results = await asyncio.gather(*tasks)\n",
    "    print(f\"Results: {results}\")\n",
    "\n",
    "await main()"
   ]
  },
  {
   "cell_type": "markdown",
   "metadata": {},
   "source": [
    "# 使用消息队列"
   ]
  },
  {
   "cell_type": "code",
   "execution_count": null,
   "metadata": {},
   "outputs": [],
   "source": [
    "import asyncio\n",
    "\n",
    "\n",
    "async def producer(queue):\n",
    "    for i in range(5):\n",
    "        await asyncio.sleep(1)\n",
    "        item = f\"Item {i}\"\n",
    "        await queue.put(item)\n",
    "        print(f\"Produced {item}\")\n",
    "\n",
    "\n",
    "async def consumer(queue):\n",
    "    while True:\n",
    "        item = await queue.get()\n",
    "        if item is None:\n",
    "            break\n",
    "        print(f\"Consumed {item}\")\n",
    "        queue.task_done()\n",
    "\n",
    "\n",
    "async def main():\n",
    "    queue = asyncio.Queue()\n",
    "    producer_task = asyncio.create_task(producer(queue))\n",
    "    consumer_task = asyncio.create_task(consumer(queue))\n",
    "\n",
    "    await producer_task\n",
    "    await queue.put(None)\n",
    "    await consumer_task\n",
    "\n",
    "await main()"
   ]
  }
 ],
 "metadata": {
  "kernelspec": {
   "display_name": "Python 3",
   "language": "python",
   "name": "python3"
  },
  "language_info": {
   "codemirror_mode": {
    "name": "ipython",
    "version": 3
   },
   "file_extension": ".py",
   "mimetype": "text/x-python",
   "name": "python",
   "nbconvert_exporter": "python",
   "pygments_lexer": "ipython3",
   "version": "3.12.1"
  }
 },
 "nbformat": 4,
 "nbformat_minor": 2
}
